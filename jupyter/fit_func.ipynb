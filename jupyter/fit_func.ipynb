{
 "metadata": {
  "orig_nbformat": 4,
  "kernelspec": {
   "name": "elearn",
   "display_name": "ELEARN",
   "language": "python"
  }
 },
 "nbformat": 4,
 "nbformat_minor": 2,
 "cells": [
  {
   "source": [
    "### Jupyter that shows how to perform symbolic regression of a given function"
   ],
   "cell_type": "markdown",
   "metadata": {}
  },
  {
   "cell_type": "code",
   "execution_count": 1,
   "metadata": {},
   "outputs": [],
   "source": [
    "weights_path = \"path to weight\""
   ]
  },
  {
   "cell_type": "code",
   "execution_count": null,
   "metadata": {},
   "outputs": [],
   "source": [
    "## Load architecture, set into eval mode, and pass the config parameters\n",
    "  model = Model.load_from_checkpoint(model_path, cfg=cfg.architecture)"
   ]
  }
 ]
}